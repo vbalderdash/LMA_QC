{
 "cells": [
  {
   "cell_type": "markdown",
   "metadata": {},
   "source": [
    "### This notebook is for querying station log files for checking locations and checking trends in thresholds and trigger rates"
   ]
  },
  {
   "cell_type": "code",
   "execution_count": 1,
   "metadata": {
    "collapsed": false
   },
   "outputs": [
    {
     "name": "stdout",
     "output_type": "stream",
     "text": [
      "Populating the interactive namespace from numpy and matplotlib\n"
     ]
    }
   ],
   "source": [
    "%pylab qt"
   ]
  },
  {
   "cell_type": "code",
   "execution_count": 2,
   "metadata": {
    "collapsed": false
   },
   "outputs": [],
   "source": [
    "import os\n",
    "import pandas as pd\n",
    "import read_logs\n",
    "import datetime as dt\n",
    "import numpy as np"
   ]
  },
  {
   "cell_type": "markdown",
   "metadata": {},
   "source": [
    "### For reading in all logs from a single folder within a time range\n",
    "\n",
    "Note: Within the parsing functions, the log files are examined for any bad lines (wrong number of entries or extremely bad GPS locations). The file will then be automatically backed up and these bad lines are then removed, if there are less than 26. This is designed to be run on a Linux OS, so they may error on other OS's, but the lines will be printed and can be removed manually, then re-ran. "
   ]
  },
  {
   "cell_type": "code",
   "execution_count": 6,
   "metadata": {
    "collapsed": false
   },
   "outputs": [],
   "source": [
    "useddir = '/home/dustdevil/Desktop/VSElogs/'\n",
    "#useddir = '/home/dustdevil/Dropbox/logs_4_June_2012/'\n",
    "start_time = dt.datetime(2016,4,9)\n",
    "end_time = dt.datetime(2016,4,17,23,59)"
   ]
  },
  {
   "cell_type": "code",
   "execution_count": 7,
   "metadata": {
    "collapsed": false,
    "scrolled": true
   },
   "outputs": [
    {
     "name": "stdout",
     "output_type": "stream",
     "text": [
      "TH160414\n",
      "TH160417\n",
      "TX160411\n",
      "TX160412\n",
      "TH160415\n",
      "TH160412\n",
      "TH160411\n",
      "TX160410\n",
      "TH160409\n",
      "TX160415\n",
      "TH160410\n",
      "TH160413\n",
      "TX160414\n",
      "TX160417\n",
      "TH160416\n",
      "TX160413\n",
      "TX160416\n",
      "TX160409\n"
     ]
    }
   ],
   "source": [
    "days = np.array([start_time+dt.timedelta(days=i) for i in range((end_time-start_time).days+1)])\n",
    "days_string = np.array([i.strftime(\"%y%m%d\") for i in days])\n",
    "\n",
    "logs = pd.DataFrame()\n",
    "dir = os.listdir(useddir)\n",
    "for file in dir:\n",
    "    if np.any(file[2:] == days_string): \n",
    "        print file\n",
    "        logs = pd.concat([logs, read_logs.parsing(useddir+file, T_set='False', old7='False')])\n",
    "        # Set old7='True' if it is an old v10 file format with 7 primary columns instead of the current 8\n",
    "\n",
    "logs.sort_index(inplace=True)\n",
    "station_byid = logs.groupby('ID') # Easier"
   ]
  },
  {
   "cell_type": "markdown",
   "metadata": {},
   "source": [
    "### A few different methods of interogating based on groups and whether they will be reused or just plotted"
   ]
  },
  {
   "cell_type": "code",
   "execution_count": 8,
   "metadata": {
    "collapsed": false
   },
   "outputs": [
    {
     "data": {
      "text/plain": [
       "<matplotlib.legend.Legend at 0x7fcf989d6790>"
      ]
     },
     "execution_count": 8,
     "metadata": {},
     "output_type": "execute_result"
    }
   ],
   "source": [
    "fig = plt.figure()\n",
    "ax1 = fig.add_subplot(211)\n",
    "ax2 = fig.add_subplot(212, sharex=ax1)\n",
    "\n",
    "for key, grp in station_byid:\n",
    "    ax1.plot(pd.rolling_mean(grp['Triggers'],300), label = key)\n",
    "    ax2.plot(grp['Threshold'], label=key)\n",
    "\n",
    "plt.legend()"
   ]
  },
  {
   "cell_type": "code",
   "execution_count": 6,
   "metadata": {
    "collapsed": false
   },
   "outputs": [
    {
     "data": {
      "text/plain": [
       "<matplotlib.axes._subplots.AxesSubplot at 0x7fb8fc71ed90>"
      ]
     },
     "execution_count": 6,
     "metadata": {},
     "output_type": "execute_result"
    }
   ],
   "source": [
    "Just_one = station_byid.get_group('H') # Saves all of the H logs in a df\n",
    "# pd.rolling_mean(Just_one['Threshold'], 120).plot()\n",
    "Just_one['Triggers'][dt.datetime(2016,3,1):dt.datetime(2016,3,2)].plot()"
   ]
  },
  {
   "cell_type": "markdown",
   "metadata": {},
   "source": [
    "### Quick voltage comparison"
   ]
  },
  {
   "cell_type": "code",
   "execution_count": 7,
   "metadata": {
    "collapsed": false
   },
   "outputs": [
    {
     "name": "stderr",
     "output_type": "stream",
     "text": [
      "/home/dustdevil/anaconda2/lib/python2.7/site-packages/ipykernel/__main__.py:16: ParserWarning: Falling back to the 'python' engine because the 'c' engine does not support regex separators; you can avoid this warning by specifying engine='python'.\n",
      "/home/dustdevil/anaconda2/lib/python2.7/site-packages/ipykernel/__main__.py:22: ParserWarning: Falling back to the 'python' engine because the 'c' engine does not support regex separators; you can avoid this warning by specifying engine='python'.\n"
     ]
    }
   ],
   "source": [
    "names = ['day', 'mon', 'date', 'hms', 'zone', 'year', \n",
    "         'V_load', 'V_batt', 'V_PV', 'I_load', 'I_batt', 'I_PV'\n",
    "        ]\n",
    "usecols=[0 ,1 ,2 ,3 ,4 ,5 ,9 ,13,17,21,25,29,]\n",
    "\n",
    "\n",
    "def parser(*args):\n",
    "    ds = ' '.join(args)\n",
    "    date = datetime.datetime.strptime(ds,\n",
    "                               '%a %b %d %H:%M:%S %Z %Y:',\n",
    "                              )\n",
    "    return date\n",
    "\n",
    "lma_pwr = pd.read_table('/home/dustdevil/Desktop/VSElogs/voltage_log_X', sep='\\s*',#delim_whitespace=True,\n",
    "                usecols=usecols, date_parser=parser, #skiprows=10, skipfooter=15, \n",
    "                header=None, names=names, index_col=False, parse_dates={'UTC':[0,1,2,3,4,5]})\n",
    "\n",
    "lma_pwr.set_index('UTC',inplace=True)\n",
    "\n",
    "lma_pwr2 = pd.read_table('/home/dustdevil/Desktop/VSElogs/voltage_log_H', sep='\\s*',#delim_whitespace=True,\n",
    "                usecols=usecols, date_parser=parser, #skiprows=10, skipfooter=15, \n",
    "                header=None, names=names, index_col=False, parse_dates={'UTC':[0,1,2,3,4,5]})\n",
    "\n",
    "lma_pwr2.set_index('UTC',inplace=True)"
   ]
  },
  {
   "cell_type": "code",
   "execution_count": 8,
   "metadata": {
    "collapsed": false
   },
   "outputs": [
    {
     "data": {
      "text/plain": [
       "<matplotlib.legend.Legend at 0x7f4f44360090>"
      ]
     },
     "execution_count": 8,
     "metadata": {},
     "output_type": "execute_result"
    }
   ],
   "source": [
    "fig = plt.figure()\n",
    "ax1 = fig.add_subplot(411)\n",
    "ax2 = fig.add_subplot(412, sharex=ax1)\n",
    "ax3 = fig.add_subplot(413, sharex=ax1)\n",
    "ax4 = fig.add_subplot(414, sharex=ax1)\n",
    "\n",
    "for key, grp in station_byid:\n",
    "    ax1.plot(pd.rolling_mean(grp['Triggers'],300), label = key)\n",
    "    ax2.plot(grp['Threshold'], label=key)\n",
    "\n",
    "ax3.plot(lma_pwr2['V_PV'][dt.datetime(2016,3,1):],label='H')\n",
    "ax3.plot(lma_pwr['V_PV'][dt.datetime(2016,3,1):],label='X')\n",
    "\n",
    "ax4.plot(lma_pwr2['V_batt'][dt.datetime(2016,3,1):],label='H')\n",
    "ax4.plot(lma_pwr['V_batt'][dt.datetime(2016,3,1):],label='X')\n",
    "\n",
    "ax1.legend()\n",
    "ax2.legend()\n",
    "ax3.legend()"
   ]
  },
  {
   "cell_type": "code",
   "execution_count": null,
   "metadata": {
    "collapsed": true
   },
   "outputs": [],
   "source": []
  }
 ],
 "metadata": {
  "kernelspec": {
   "display_name": "Python 2",
   "language": "python",
   "name": "python2"
  },
  "language_info": {
   "codemirror_mode": {
    "name": "ipython",
    "version": 2
   },
   "file_extension": ".py",
   "mimetype": "text/x-python",
   "name": "python",
   "nbconvert_exporter": "python",
   "pygments_lexer": "ipython2",
   "version": "2.7.11"
  }
 },
 "nbformat": 4,
 "nbformat_minor": 0
}
